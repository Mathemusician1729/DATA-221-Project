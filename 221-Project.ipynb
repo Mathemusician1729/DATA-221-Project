{
 "cells": [
  {
   "cell_type": "markdown",
   "metadata": {},
   "source": [
    "# **Data Cleaning:**\n",
    "Summarize what we did in Excel, and some stuff moving into python\n",
    "- dawg i had to manually remove values because 1). the list is so small, 2). not that hard as a result 3). excel/python would take more time\n",
    "- deleted non 2021-2022 columns "
   ]
  },
  {
   "cell_type": "code",
   "execution_count": 2,
   "metadata": {},
   "outputs": [
    {
     "data": {
      "text/html": [
       "<div>\n",
       "<style scoped>\n",
       "    .dataframe tbody tr th:only-of-type {\n",
       "        vertical-align: middle;\n",
       "    }\n",
       "\n",
       "    .dataframe tbody tr th {\n",
       "        vertical-align: top;\n",
       "    }\n",
       "\n",
       "    .dataframe thead th {\n",
       "        text-align: right;\n",
       "    }\n",
       "</style>\n",
       "<table border=\"1\" class=\"dataframe\">\n",
       "  <thead>\n",
       "    <tr style=\"text-align: right;\">\n",
       "      <th></th>\n",
       "      <th>Area Name</th>\n",
       "      <th>Type</th>\n",
       "      <th>2022</th>\n",
       "    </tr>\n",
       "  </thead>\n",
       "  <tbody>\n",
       "    <tr>\n",
       "      <th>308</th>\n",
       "      <td>Athabasca</td>\n",
       "      <td>T</td>\n",
       "      <td>2827</td>\n",
       "    </tr>\n",
       "    <tr>\n",
       "      <th>330</th>\n",
       "      <td>Banff</td>\n",
       "      <td>T</td>\n",
       "      <td>9347</td>\n",
       "    </tr>\n",
       "    <tr>\n",
       "      <th>296</th>\n",
       "      <td>Barrhead</td>\n",
       "      <td>T</td>\n",
       "      <td>4503</td>\n",
       "    </tr>\n",
       "    <tr>\n",
       "      <th>26</th>\n",
       "      <td>Bassano</td>\n",
       "      <td>T</td>\n",
       "      <td>1255</td>\n",
       "    </tr>\n",
       "    <tr>\n",
       "      <th>409</th>\n",
       "      <td>Beaverlodge</td>\n",
       "      <td>T</td>\n",
       "      <td>2371</td>\n",
       "    </tr>\n",
       "    <tr>\n",
       "      <th>...</th>\n",
       "      <td>...</td>\n",
       "      <td>...</td>\n",
       "      <td>...</td>\n",
       "    </tr>\n",
       "    <tr>\n",
       "      <th>183</th>\n",
       "      <td>Vegreville</td>\n",
       "      <td>T</td>\n",
       "      <td>5819</td>\n",
       "    </tr>\n",
       "    <tr>\n",
       "      <th>190</th>\n",
       "      <td>Vermilion</td>\n",
       "      <td>T</td>\n",
       "      <td>3978</td>\n",
       "    </tr>\n",
       "    <tr>\n",
       "      <th>59</th>\n",
       "      <td>Vulcan</td>\n",
       "      <td>T</td>\n",
       "      <td>1825</td>\n",
       "    </tr>\n",
       "    <tr>\n",
       "      <th>131</th>\n",
       "      <td>Wainwright</td>\n",
       "      <td>T</td>\n",
       "      <td>6741</td>\n",
       "    </tr>\n",
       "    <tr>\n",
       "      <th>300</th>\n",
       "      <td>Westlock</td>\n",
       "      <td>T</td>\n",
       "      <td>5022</td>\n",
       "    </tr>\n",
       "  </tbody>\n",
       "</table>\n",
       "<p>67 rows × 3 columns</p>\n",
       "</div>"
      ],
      "text/plain": [
       "       Area Name Type  2022\n",
       "308    Athabasca    T  2827\n",
       "330        Banff    T  9347\n",
       "296     Barrhead    T  4503\n",
       "26       Bassano    T  1255\n",
       "409  Beaverlodge    T  2371\n",
       "..           ...  ...   ...\n",
       "183   Vegreville    T  5819\n",
       "190    Vermilion    T  3978\n",
       "59        Vulcan    T  1825\n",
       "131   Wainwright    T  6741\n",
       "300     Westlock    T  5022\n",
       "\n",
       "[67 rows x 3 columns]"
      ]
     },
     "execution_count": 2,
     "metadata": {},
     "output_type": "execute_result"
    }
   ],
   "source": [
    "# further data cleaning in pandas\n",
    "import pandas as pd\n",
    "pd.options.mode.chained_assignment = None \n",
    "\n",
    "# read datasets\n",
    "table6 = pd.read_csv(\"Matthew's Data/Table6.csv\")\n",
    "table8 = pd.read_csv(\"Matthew's Data/Table8.csv\")\n",
    "table9 = pd.read_csv(\"Matthew's Data/table9.csv\")\n",
    "\n",
    "# create list of all strings that contain the names of communities in table 8\n",
    "community_names = table8[\"Community\"].unique().tolist()\n",
    "\n",
    "# filter the csv based on if it exists in the observed commmunities\n",
    "table9_byAreaNames = table9[table9[\"Area Name\"].isin(community_names)]\n",
    "\n",
    "# IMPUTATION WARNING: the only value  \n",
    "table9_byAreaNames.loc[table9_byAreaNames[\"Area Name\"] == \"Grande Cache\"] = table9_byAreaNames.loc[table9_byAreaNames[\"Area Name\"] == \"Grande Cache\"].replace(\"--\", \"3276\")\n",
    "\n",
    "# convert 2022 column to integer values (since it is currently being read as string)\n",
    "table9_byAreaNames[\"2022\"] = table9_byAreaNames[\"2022\"].apply(lambda x: int(x))\n",
    "\n",
    "# display populations (alphabetical order)\n",
    "table9_byAreaNames.drop([\"2021\"],axis=1,inplace=True) # remove 2021 column\n",
    "table9_byAreaNames.sort_values(\"Area Name\")\n",
    "\n",
    "# clean again \n",
    "#print(len(community_names))\n",
    "#print(len(table9_remove0.index))\n",
    "#for i in community_names:\n",
    "    #if not table9_filtered[\"Area Name\"].str.contains(i).any():\n",
    "        #print(i, \"is not in here\")\n",
    "        "
   ]
  },
  {
   "cell_type": "code",
   "execution_count": 3,
   "metadata": {},
   "outputs": [
    {
     "data": {
      "text/html": [
       "<div>\n",
       "<style scoped>\n",
       "    .dataframe tbody tr th:only-of-type {\n",
       "        vertical-align: middle;\n",
       "    }\n",
       "\n",
       "    .dataframe tbody tr th {\n",
       "        vertical-align: top;\n",
       "    }\n",
       "\n",
       "    .dataframe thead th {\n",
       "        text-align: right;\n",
       "    }\n",
       "</style>\n",
       "<table border=\"1\" class=\"dataframe\">\n",
       "  <thead>\n",
       "    <tr style=\"text-align: right;\">\n",
       "      <th></th>\n",
       "      <th>Rental Range</th>\n",
       "      <th>Bachelor Units</th>\n",
       "      <th>Bachelor Vacant</th>\n",
       "      <th>Bachelor % Vacancy</th>\n",
       "      <th>1 - Bedroom Units</th>\n",
       "      <th>1 - Bedroom Vacant</th>\n",
       "      <th>1 - Bedroom % Vacancy</th>\n",
       "      <th>2 - Bedroom Units</th>\n",
       "      <th>2 - Bedroom Vacant</th>\n",
       "      <th>2 - Bedroom % Vacancy</th>\n",
       "      <th>3 - Bedroom Units</th>\n",
       "      <th>3 - Bedroom Vacant</th>\n",
       "      <th>3 - Bedroom % Vacancy</th>\n",
       "      <th>4+ Bedroom Units</th>\n",
       "      <th>4+ Bedroom Vacant</th>\n",
       "      <th>4+ Bedroom % Vacancy</th>\n",
       "    </tr>\n",
       "  </thead>\n",
       "  <tbody>\n",
       "    <tr>\n",
       "      <th>0</th>\n",
       "      <td>&lt; 500</td>\n",
       "      <td>53</td>\n",
       "      <td>22</td>\n",
       "      <td>41.5</td>\n",
       "      <td>18</td>\n",
       "      <td>1</td>\n",
       "      <td>5.6</td>\n",
       "      <td>10</td>\n",
       "      <td>1</td>\n",
       "      <td>10.0</td>\n",
       "      <td>4</td>\n",
       "      <td>3</td>\n",
       "      <td>75.0</td>\n",
       "      <td>-</td>\n",
       "      <td>-</td>\n",
       "      <td>-</td>\n",
       "    </tr>\n",
       "    <tr>\n",
       "      <th>1</th>\n",
       "      <td>500 - 649</td>\n",
       "      <td>29</td>\n",
       "      <td>2</td>\n",
       "      <td>6.9</td>\n",
       "      <td>147</td>\n",
       "      <td>21</td>\n",
       "      <td>14.3</td>\n",
       "      <td>63</td>\n",
       "      <td>5</td>\n",
       "      <td>7.9</td>\n",
       "      <td>5</td>\n",
       "      <td>0</td>\n",
       "      <td>0.0</td>\n",
       "      <td>-</td>\n",
       "      <td>-</td>\n",
       "      <td>-</td>\n",
       "    </tr>\n",
       "    <tr>\n",
       "      <th>2</th>\n",
       "      <td>650 - 799</td>\n",
       "      <td>72</td>\n",
       "      <td>12</td>\n",
       "      <td>16.7</td>\n",
       "      <td>766</td>\n",
       "      <td>82</td>\n",
       "      <td>10.7</td>\n",
       "      <td>644</td>\n",
       "      <td>73</td>\n",
       "      <td>11.3</td>\n",
       "      <td>38</td>\n",
       "      <td>2</td>\n",
       "      <td>5.3</td>\n",
       "      <td>-</td>\n",
       "      <td>-</td>\n",
       "      <td>-</td>\n",
       "    </tr>\n",
       "    <tr>\n",
       "      <th>3</th>\n",
       "      <td>800 - 949</td>\n",
       "      <td>180</td>\n",
       "      <td>3</td>\n",
       "      <td>1.7</td>\n",
       "      <td>665</td>\n",
       "      <td>77</td>\n",
       "      <td>11.6</td>\n",
       "      <td>1698</td>\n",
       "      <td>204</td>\n",
       "      <td>12.0</td>\n",
       "      <td>165</td>\n",
       "      <td>18</td>\n",
       "      <td>10.9</td>\n",
       "      <td>-</td>\n",
       "      <td>-</td>\n",
       "      <td>-</td>\n",
       "    </tr>\n",
       "    <tr>\n",
       "      <th>4</th>\n",
       "      <td>950 - 1,099</td>\n",
       "      <td>3</td>\n",
       "      <td>0</td>\n",
       "      <td>0.0</td>\n",
       "      <td>150</td>\n",
       "      <td>18</td>\n",
       "      <td>12.0</td>\n",
       "      <td>862</td>\n",
       "      <td>108</td>\n",
       "      <td>12.5</td>\n",
       "      <td>297</td>\n",
       "      <td>30</td>\n",
       "      <td>10.1</td>\n",
       "      <td>-</td>\n",
       "      <td>-</td>\n",
       "      <td>-</td>\n",
       "    </tr>\n",
       "    <tr>\n",
       "      <th>5</th>\n",
       "      <td>1,100 - 1,349</td>\n",
       "      <td>8</td>\n",
       "      <td>0</td>\n",
       "      <td>0.0</td>\n",
       "      <td>253</td>\n",
       "      <td>22</td>\n",
       "      <td>8.7</td>\n",
       "      <td>446</td>\n",
       "      <td>29</td>\n",
       "      <td>6.5</td>\n",
       "      <td>349</td>\n",
       "      <td>11</td>\n",
       "      <td>3.2</td>\n",
       "      <td>4</td>\n",
       "      <td>0</td>\n",
       "      <td>0.0</td>\n",
       "    </tr>\n",
       "    <tr>\n",
       "      <th>6</th>\n",
       "      <td>1,350 +</td>\n",
       "      <td>-</td>\n",
       "      <td>-</td>\n",
       "      <td>-</td>\n",
       "      <td>87</td>\n",
       "      <td>3</td>\n",
       "      <td>3.4</td>\n",
       "      <td>479</td>\n",
       "      <td>42</td>\n",
       "      <td>8.8</td>\n",
       "      <td>320</td>\n",
       "      <td>29</td>\n",
       "      <td>9.1</td>\n",
       "      <td>14</td>\n",
       "      <td>1</td>\n",
       "      <td>7.1</td>\n",
       "    </tr>\n",
       "  </tbody>\n",
       "</table>\n",
       "</div>"
      ],
      "text/plain": [
       "    Rental Range Bachelor Units Bachelor Vacant Bachelor % Vacancy  \\\n",
       "0          < 500             53              22               41.5   \n",
       "1      500 - 649             29               2                6.9   \n",
       "2      650 - 799             72              12               16.7   \n",
       "3      800 - 949            180               3                1.7   \n",
       "4    950 - 1,099              3               0                0.0   \n",
       "5  1,100 - 1,349              8               0                0.0   \n",
       "6        1,350 +              -               -                  -   \n",
       "\n",
       "   1 - Bedroom Units  1 - Bedroom Vacant  1 - Bedroom % Vacancy  \\\n",
       "0                 18                   1                    5.6   \n",
       "1                147                  21                   14.3   \n",
       "2                766                  82                   10.7   \n",
       "3                665                  77                   11.6   \n",
       "4                150                  18                   12.0   \n",
       "5                253                  22                    8.7   \n",
       "6                 87                   3                    3.4   \n",
       "\n",
       "   2 - Bedroom Units  2 - Bedroom Vacant  2 - Bedroom % Vacancy  \\\n",
       "0                 10                   1                   10.0   \n",
       "1                 63                   5                    7.9   \n",
       "2                644                  73                   11.3   \n",
       "3               1698                 204                   12.0   \n",
       "4                862                 108                   12.5   \n",
       "5                446                  29                    6.5   \n",
       "6                479                  42                    8.8   \n",
       "\n",
       "   3 - Bedroom Units  3 - Bedroom Vacant  3 - Bedroom % Vacancy  \\\n",
       "0                  4                   3                   75.0   \n",
       "1                  5                   0                    0.0   \n",
       "2                 38                   2                    5.3   \n",
       "3                165                  18                   10.9   \n",
       "4                297                  30                   10.1   \n",
       "5                349                  11                    3.2   \n",
       "6                320                  29                    9.1   \n",
       "\n",
       "  4+ Bedroom Units 4+ Bedroom Vacant 4+ Bedroom % Vacancy  \n",
       "0                -                 -                    -  \n",
       "1                -                 -                    -  \n",
       "2                -                 -                    -  \n",
       "3                -                 -                    -  \n",
       "4                -                 -                    -  \n",
       "5                4                 0                  0.0  \n",
       "6               14                 1                  7.1  "
      ]
     },
     "execution_count": 3,
     "metadata": {},
     "output_type": "execute_result"
    }
   ],
   "source": [
    "# Cleaning and getting values from 2b-2\n",
    "table2b_2 = pd.read_csv(\"Matthew's Data/Table 2b - 2.csv\")\n",
    "table2b_2"
   ]
  },
  {
   "cell_type": "markdown",
   "metadata": {},
   "source": [
    "For this data set, it was at some point much easier to clean manually than it was to use excel or python, due to the fact that in this check, less than 15 were absent due to some error, and was as a result, so using ctrl + f and manually editing was not (in general, it isn't a practical solution but here is somehow less time consuming than using python/excel)"
   ]
  },
  {
   "cell_type": "code",
   "execution_count": 4,
   "metadata": {},
   "outputs": [],
   "source": [
    "# TODO fix tables 2b-2 and 2b\n",
    "# TODO start working on faceted graph\n",
    "# TODO for population before graph, make as ranges\n",
    "\n"
   ]
  },
  {
   "cell_type": "markdown",
   "metadata": {},
   "source": [
    "Ok so here is the shit that I am going to do for my part, please listen to the checklist ANALYSIS\n",
    "- make **Faceted Graph** for table 8 (and 6 now)\n",
    "    - write observations if any\n",
    "    - **MAINLY, WHAT RELATION BETWEEN RENT AND VACANCY IS THERE??**\n",
    "        - **HOW DOES THIS CHANGE BETWEEN COMMUNITY SIZES??**\n",
    "\n",
    "- <u>Sampled Towns</u> --> how might these be useful?\n",
    "    - Banff, Drumheller, Slave Lake, \n",
    "        - *State why these are good representatives in the sample for the whole communities* in the notebook\n",
    "            - sdf\n",
    "    - Analyze overall Rental Range from table 2b and vacancy rates?\n",
    "    - **AT LEAST 2 VISUALS/ANALYSIS WE WANT TO MAKE FROM THE SAMPLED TOWNS STUFF**\n"
   ]
  },
  {
   "cell_type": "markdown",
   "metadata": {},
   "source": [
    "New changes\n",
    "- removed commas in thousands from Table 8 --> can read as numerical values now\n",
    "- removed \"Overall Vacancy Rates\" from Table 8, since this is covered in table 6 and is more accurate there, just need the weighted rents between years in table 8\\\n",
    "- added \"population\" which we want to analyze how town population sizes might also be related to costs and shit\n",
    "    - add to faceted graph as an outer variable"
   ]
  },
  {
   "cell_type": "markdown",
   "metadata": {},
   "source": [
    "-------\n",
    "\n",
    "# **Visualizations + Analysis:**"
   ]
  },
  {
   "cell_type": "markdown",
   "metadata": {},
   "source": [
    "dddddddd"
   ]
  },
  {
   "cell_type": "code",
   "execution_count": null,
   "metadata": {},
   "outputs": [
    {
     "data": {
      "image/png": "[encoded data removed]",
      "text/plain": [
       "<Figure size 640x480 with 1 Axes>"
      ]
     },
     "metadata": {},
     "output_type": "display_data"
    }
   ],
   "source": [
    "# General stuffs\n",
    "import matplotlib.pyplot as plt\n",
    "import numpy as np\n",
    "\n",
    "# \n",
    "ranges = table2b_2[\"Rental Range\"]\n",
    "\n",
    "bachelor_rents = ranges.copy()[:6]\n",
    "bachelor_vacants = table2b_2[\"Bachelor Vacant\"][:6].apply(lambda x: int(x)) # \n",
    "bachelor_units = table2b_2[\"Bachelor Units\"][:6].apply(lambda x: int(x))\n",
    "\n",
    "# create stacked bar chart out of total sampled\n",
    "x_axis = np.arange(len(bachelor_rents))\n",
    "plt.bar(x_axis, bachelor_vacants, 0.4, label=\"# of Vacant Units\")\n",
    "plt.bar(x_axis, bachelor_units - bachelor_vacants, 0.4, bottom=bachelor_vacants, alpha=0.3)\n",
    "\n",
    "plt.xticks(x_axis, bachelor_rents, fontsize=7)\n",
    "plt.xlabel(\"Rental Ranges\")\n",
    "plt.ylabel(\"# of Units\")\n",
    "plt.legend()\n",
    "plt.show()"
   ]
  },
  {
   "cell_type": "code",
   "execution_count": 38,
   "metadata": {},
   "outputs": [
    {
     "data": {
      "image/png": "[encoded data removed]",
      "text/plain": [
       "<Figure size 640x480 with 1 Axes>"
      ]
     },
     "metadata": {},
     "output_type": "display_data"
    }
   ],
   "source": [
    "one_bed_vacants = table2b_2[\"1 - Bedroom Vacant\"].apply(lambda x: int(x))\n",
    "one_bed_units = table2b_2[\"1 - Bedroom Units\"].apply(lambda x: int(x))\n",
    "\n",
    "x_axis = np.arange(len(ranges))\n",
    "plt.bar(x_axis, one_bed_vacants, 0.4, label=\"# of Vacant Units\")\n",
    "plt.bar(x_axis, one_bed_units - one_bed_vacants, 0.4, bottom=one_bed_vacants, alpha=0.3)\n",
    "\n",
    "plt.xticks(x_axis, ranges, fontsize=7)\n",
    "plt.xlabel(\"Rental Ranges\")\n",
    "plt.ylabel(\"# of Units\")\n",
    "plt.legend()\n",
    "plt.show()"
   ]
  },
  {
   "cell_type": "code",
   "execution_count": 39,
   "metadata": {},
   "outputs": [
    {
     "data": {
      "image/png": "[encoded data removed]",
      "text/plain": [
       "<Figure size 640x480 with 1 Axes>"
      ]
     },
     "metadata": {},
     "output_type": "display_data"
    }
   ],
   "source": [
    "two_bed_vacants = table2b_2[\"2 - Bedroom Vacant\"].apply(lambda x: int(x))\n",
    "two_bed_units = table2b_2[\"2 - Bedroom Units\"].apply(lambda x: int(x))\n",
    "\n",
    "x_axis = np.arange(len(ranges))\n",
    "plt.bar(x_axis, two_bed_vacants, 0.4, label=\"# of Vacant Units\")\n",
    "plt.bar(x_axis, two_bed_units - two_bed_vacants, 0.4, bottom=two_bed_vacants, alpha=0.3)\n",
    "\n",
    "plt.xticks(x_axis, ranges, fontsize=7)\n",
    "plt.xlabel(\"Rental Ranges\")\n",
    "plt.ylabel(\"# of Units\")\n",
    "plt.legend()\n",
    "plt.show()"
   ]
  },
  {
   "cell_type": "code",
   "execution_count": 40,
   "metadata": {},
   "outputs": [
    {
     "data": {
      "image/png": "[encoded data removed]",
      "text/plain": [
       "<Figure size 640x480 with 1 Axes>"
      ]
     },
     "metadata": {},
     "output_type": "display_data"
    }
   ],
   "source": [
    "three_bed_vacants = table2b_2[\"3 - Bedroom Vacant\"].apply(lambda x: int(x))\n",
    "three_bed_units = table2b_2[\"3 - Bedroom Units\"].apply(lambda x: int(x))\n",
    "\n",
    "x_axis = np.arange(len(ranges))\n",
    "plt.bar(x_axis, three_bed_vacants, 0.4, label=\"# of Vacant Units\")\n",
    "plt.bar(x_axis, three_bed_units - three_bed_vacants, 0.4, bottom=three_bed_vacants, alpha=0.3)\n",
    "\n",
    "plt.xticks(x_axis, ranges, fontsize=7)\n",
    "plt.xlabel(\"Rental Ranges\")\n",
    "plt.ylabel(\"# of Units\")\n",
    "plt.legend()\n",
    "plt.show()"
   ]
  },
  {
   "cell_type": "code",
   "execution_count": null,
   "metadata": {},
   "outputs": [
    {
     "data": {
      "image/png": "[encoded data removed]",
      "text/plain": [
       "<Figure size 640x480 with 1 Axes>"
      ]
     },
     "metadata": {},
     "output_type": "display_data"
    }
   ],
   "source": [
    "four_bed_vacants = table2b_2[\"4+ Bedroom Vacant\"][5:].apply(lambda x: int(x))\n",
    "four_bed_units = table2b_2[\"4+ Bedroom Units\"][5:].apply(lambda x: int(x))\n",
    "\n",
    "x_axis = np.arange(len(ranges[5:]))\n",
    "plt.bar(x_axis, four_bed_vacants, 0.4, label=\"# of Vacant Units\")\n",
    "plt.bar(x_axis, four_bed_units - four_bed_vacants, 0.4, bottom=four_bed_vacants, alpha=0.3)\n",
    "\n",
    "plt.xticks(x_axis, ranges[5:], fontsize=7)\n",
    "plt.xlabel(\"Rental Ranges\")\n",
    "plt.ylabel(\"# of Units\")\n",
    "plt.legend()\n",
    "plt.show()"
   ]
  },
  {
   "cell_type": "markdown",
   "metadata": {},
   "source": [
    "Potential Conclusions from these visuals:\n",
    "- This one is pretty much just number of vacancies relative to the number of units over rental ranges\n",
    "- Overall, for the most part pretty much mostly, the vacancies tend to be proportional to the number of units in that range"
   ]
  },
  {
   "cell_type": "code",
   "execution_count": 7,
   "metadata": {},
   "outputs": [
    {
     "name": "stdout",
     "output_type": "stream",
     "text": [
      "213\n"
     ]
    }
   ],
   "source": [
    "faceted_data = table8.copy()\n",
    "# faceted_data \n",
    "\n",
    "bin_size = int((table9_byAreaNames[\"2022\"].max() - table9_byAreaNames[\"2022\"].min())/len(table9_byAreaNames))\n",
    "print(bin_size)"
   ]
  },
  {
   "cell_type": "code",
   "execution_count": 8,
   "metadata": {},
   "outputs": [
    {
     "ename": "ValueError",
     "evalue": "Plotly Express cannot process wide-form data with columns of different type.",
     "output_type": "error",
     "traceback": [
      "\u001b[1;31m---------------------------------------------------------------------------\u001b[0m",
      "\u001b[1;31mValueError\u001b[0m                                Traceback (most recent call last)",
      "Cell \u001b[1;32mIn[8], line 4\u001b[0m\n\u001b[0;32m      1\u001b[0m \u001b[38;5;66;03m# faceted chart\u001b[39;00m\n\u001b[0;32m      2\u001b[0m \u001b[38;5;28;01mimport\u001b[39;00m\u001b[38;5;250m \u001b[39m\u001b[38;5;21;01mplotly\u001b[39;00m\u001b[38;5;21;01m.\u001b[39;00m\u001b[38;5;21;01mexpress\u001b[39;00m\u001b[38;5;250m \u001b[39m\u001b[38;5;28;01mas\u001b[39;00m\u001b[38;5;250m \u001b[39m\u001b[38;5;21;01mpx\u001b[39;00m\n\u001b[1;32m----> 4\u001b[0m faceted_graph \u001b[38;5;241m=\u001b[39m \u001b[43mpx\u001b[49m\u001b[38;5;241;43m.\u001b[39;49m\u001b[43mline\u001b[49m\u001b[43m(\u001b[49m\u001b[43mfaceted_data\u001b[49m\u001b[43m,\u001b[49m\u001b[43m \u001b[49m\u001b[43m)\u001b[49m\n\u001b[0;32m      5\u001b[0m faceted_graph\u001b[38;5;241m.\u001b[39mshow()\n",
      "File \u001b[1;32mc:\\Users\\trand\\AppData\\Local\\Programs\\Python\\Python313\\Lib\\site-packages\\plotly\\express\\_chart_types.py:270\u001b[0m, in \u001b[0;36mline\u001b[1;34m(data_frame, x, y, line_group, color, line_dash, symbol, hover_name, hover_data, custom_data, text, facet_row, facet_col, facet_col_wrap, facet_row_spacing, facet_col_spacing, error_x, error_x_minus, error_y, error_y_minus, animation_frame, animation_group, category_orders, labels, orientation, color_discrete_sequence, color_discrete_map, line_dash_sequence, line_dash_map, symbol_sequence, symbol_map, markers, log_x, log_y, range_x, range_y, line_shape, render_mode, title, subtitle, template, width, height)\u001b[0m\n\u001b[0;32m    221\u001b[0m \u001b[38;5;28;01mdef\u001b[39;00m\u001b[38;5;250m \u001b[39m\u001b[38;5;21mline\u001b[39m(\n\u001b[0;32m    222\u001b[0m     data_frame\u001b[38;5;241m=\u001b[39m\u001b[38;5;28;01mNone\u001b[39;00m,\n\u001b[0;32m    223\u001b[0m     x\u001b[38;5;241m=\u001b[39m\u001b[38;5;28;01mNone\u001b[39;00m,\n\u001b[1;32m   (...)\u001b[0m\n\u001b[0;32m    264\u001b[0m     height\u001b[38;5;241m=\u001b[39m\u001b[38;5;28;01mNone\u001b[39;00m,\n\u001b[0;32m    265\u001b[0m ) \u001b[38;5;241m-\u001b[39m\u001b[38;5;241m>\u001b[39m go\u001b[38;5;241m.\u001b[39mFigure:\n\u001b[0;32m    266\u001b[0m \u001b[38;5;250m    \u001b[39m\u001b[38;5;124;03m\"\"\"\u001b[39;00m\n\u001b[0;32m    267\u001b[0m \u001b[38;5;124;03m    In a 2D line plot, each row of `data_frame` is represented as a vertex of\u001b[39;00m\n\u001b[0;32m    268\u001b[0m \u001b[38;5;124;03m    a polyline mark in 2D space.\u001b[39;00m\n\u001b[0;32m    269\u001b[0m \u001b[38;5;124;03m    \"\"\"\u001b[39;00m\n\u001b[1;32m--> 270\u001b[0m     \u001b[38;5;28;01mreturn\u001b[39;00m \u001b[43mmake_figure\u001b[49m\u001b[43m(\u001b[49m\u001b[43margs\u001b[49m\u001b[38;5;241;43m=\u001b[39;49m\u001b[38;5;28;43mlocals\u001b[39;49m\u001b[43m(\u001b[49m\u001b[43m)\u001b[49m\u001b[43m,\u001b[49m\u001b[43m \u001b[49m\u001b[43mconstructor\u001b[49m\u001b[38;5;241;43m=\u001b[39;49m\u001b[43mgo\u001b[49m\u001b[38;5;241;43m.\u001b[39;49m\u001b[43mScatter\u001b[49m\u001b[43m)\u001b[49m\n",
      "File \u001b[1;32mc:\\Users\\trand\\AppData\\Local\\Programs\\Python\\Python313\\Lib\\site-packages\\plotly\\express\\_core.py:2479\u001b[0m, in \u001b[0;36mmake_figure\u001b[1;34m(args, constructor, trace_patch, layout_patch)\u001b[0m\n\u001b[0;32m   2476\u001b[0m layout_patch \u001b[38;5;241m=\u001b[39m layout_patch \u001b[38;5;129;01mor\u001b[39;00m {}\n\u001b[0;32m   2477\u001b[0m apply_default_cascade(args)\n\u001b[1;32m-> 2479\u001b[0m args \u001b[38;5;241m=\u001b[39m \u001b[43mbuild_dataframe\u001b[49m\u001b[43m(\u001b[49m\u001b[43margs\u001b[49m\u001b[43m,\u001b[49m\u001b[43m \u001b[49m\u001b[43mconstructor\u001b[49m\u001b[43m)\u001b[49m\n\u001b[0;32m   2480\u001b[0m \u001b[38;5;28;01mif\u001b[39;00m constructor \u001b[38;5;129;01min\u001b[39;00m [go\u001b[38;5;241m.\u001b[39mTreemap, go\u001b[38;5;241m.\u001b[39mSunburst, go\u001b[38;5;241m.\u001b[39mIcicle] \u001b[38;5;129;01mand\u001b[39;00m args[\u001b[38;5;124m\"\u001b[39m\u001b[38;5;124mpath\u001b[39m\u001b[38;5;124m\"\u001b[39m] \u001b[38;5;129;01mis\u001b[39;00m \u001b[38;5;129;01mnot\u001b[39;00m \u001b[38;5;28;01mNone\u001b[39;00m:\n\u001b[0;32m   2481\u001b[0m     args \u001b[38;5;241m=\u001b[39m process_dataframe_hierarchy(args)\n",
      "File \u001b[1;32mc:\\Users\\trand\\AppData\\Local\\Programs\\Python\\Python313\\Lib\\site-packages\\plotly\\express\\_core.py:1779\u001b[0m, in \u001b[0;36mbuild_dataframe\u001b[1;34m(args, constructor)\u001b[0m\n\u001b[0;32m   1777\u001b[0m         dtype \u001b[38;5;241m=\u001b[39m v_dtype\n\u001b[0;32m   1778\u001b[0m     \u001b[38;5;28;01melif\u001b[39;00m dtype \u001b[38;5;241m!=\u001b[39m v_dtype:\n\u001b[1;32m-> 1779\u001b[0m         \u001b[38;5;28;01mraise\u001b[39;00m \u001b[38;5;167;01mValueError\u001b[39;00m(\n\u001b[0;32m   1780\u001b[0m             \u001b[38;5;124m\"\u001b[39m\u001b[38;5;124mPlotly Express cannot process wide-form data with columns of different type.\u001b[39m\u001b[38;5;124m\"\u001b[39m\n\u001b[0;32m   1781\u001b[0m         )\n\u001b[0;32m   1782\u001b[0m df_output \u001b[38;5;241m=\u001b[39m df_output\u001b[38;5;241m.\u001b[39munpivot(\n\u001b[0;32m   1783\u001b[0m     index\u001b[38;5;241m=\u001b[39mwide_id_vars,\n\u001b[0;32m   1784\u001b[0m     on\u001b[38;5;241m=\u001b[39mwide_value_vars,\n\u001b[0;32m   1785\u001b[0m     variable_name\u001b[38;5;241m=\u001b[39mvar_name,\n\u001b[0;32m   1786\u001b[0m     value_name\u001b[38;5;241m=\u001b[39mvalue_name,\n\u001b[0;32m   1787\u001b[0m )\n\u001b[0;32m   1788\u001b[0m \u001b[38;5;28;01massert\u001b[39;00m \u001b[38;5;28mlen\u001b[39m(df_output\u001b[38;5;241m.\u001b[39mcolumns) \u001b[38;5;241m==\u001b[39m \u001b[38;5;28mlen\u001b[39m(\u001b[38;5;28mset\u001b[39m(df_output\u001b[38;5;241m.\u001b[39mcolumns)), (\n\u001b[0;32m   1789\u001b[0m     \u001b[38;5;124m\"\u001b[39m\u001b[38;5;124mWide-mode name-inference failure, likely due to a internal bug. \u001b[39m\u001b[38;5;124m\"\u001b[39m\n\u001b[0;32m   1790\u001b[0m     \u001b[38;5;124m\"\u001b[39m\u001b[38;5;124mPlease report this to \u001b[39m\u001b[38;5;124m\"\u001b[39m\n\u001b[0;32m   1791\u001b[0m     \u001b[38;5;124m\"\u001b[39m\u001b[38;5;124mhttps://github.com/plotly/plotly.py/issues/new and we will try to \u001b[39m\u001b[38;5;124m\"\u001b[39m\n\u001b[0;32m   1792\u001b[0m     \u001b[38;5;124m\"\u001b[39m\u001b[38;5;124mreplicate and fix it.\u001b[39m\u001b[38;5;124m\"\u001b[39m\n\u001b[0;32m   1793\u001b[0m )\n",
      "\u001b[1;31mValueError\u001b[0m: Plotly Express cannot process wide-form data with columns of different type."
     ]
    }
   ],
   "source": [
    "# faceted chart\n",
    "import plotly.express as px\n",
    "\n",
    "faceted_graph = px.line(faceted_data, )\n",
    "faceted_graph.show()"
   ]
  }
 ],
 "metadata": {
  "kernelspec": {
   "display_name": "Python 3",
   "language": "python",
   "name": "python3"
  },
  "language_info": {
   "codemirror_mode": {
    "name": "ipython",
    "version": 3
   },
   "file_extension": ".py",
   "mimetype": "text/x-python",
   "name": "python",
   "nbconvert_exporter": "python",
   "pygments_lexer": "ipython3",
   "version": "3.13.1"
  }
 },
 "nbformat": 4,
 "nbformat_minor": 2
}
