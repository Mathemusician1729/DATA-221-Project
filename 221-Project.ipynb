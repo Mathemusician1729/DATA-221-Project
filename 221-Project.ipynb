{
 "cells": [
  {
   "cell_type": "markdown",
   "metadata": {},
   "source": [
    "# **Data Cleaning:**\n",
    "Summarize what we did in Excel, and some stuff moving into python"
   ]
  },
  {
   "cell_type": "code",
   "execution_count": 2,
   "metadata": {},
   "outputs": [
    {
     "data": {
      "text/html": [
       "<div>\n",
       "<style scoped>\n",
       "    .dataframe tbody tr th:only-of-type {\n",
       "        vertical-align: middle;\n",
       "    }\n",
       "\n",
       "    .dataframe tbody tr th {\n",
       "        vertical-align: top;\n",
       "    }\n",
       "\n",
       "    .dataframe thead th {\n",
       "        text-align: right;\n",
       "    }\n",
       "</style>\n",
       "<table border=\"1\" class=\"dataframe\">\n",
       "  <thead>\n",
       "    <tr style=\"text-align: right;\">\n",
       "      <th></th>\n",
       "      <th>Area Name</th>\n",
       "      <th>2021</th>\n",
       "      <th>2022</th>\n",
       "    </tr>\n",
       "  </thead>\n",
       "  <tbody>\n",
       "    <tr>\n",
       "      <th>4</th>\n",
       "      <td>Bow Island</td>\n",
       "      <td>2106</td>\n",
       "      <td>2129</td>\n",
       "    </tr>\n",
       "    <tr>\n",
       "      <th>10</th>\n",
       "      <td>Raymond1 *</td>\n",
       "      <td>4334</td>\n",
       "      <td>4455</td>\n",
       "    </tr>\n",
       "    <tr>\n",
       "      <th>18</th>\n",
       "      <td>Coaldale3 *</td>\n",
       "      <td>9073</td>\n",
       "      <td>9179</td>\n",
       "    </tr>\n",
       "    <tr>\n",
       "      <th>19</th>\n",
       "      <td>Taber</td>\n",
       "      <td>9177</td>\n",
       "      <td>9325</td>\n",
       "    </tr>\n",
       "    <tr>\n",
       "      <th>26</th>\n",
       "      <td>Bassano</td>\n",
       "      <td>1250</td>\n",
       "      <td>1255</td>\n",
       "    </tr>\n",
       "    <tr>\n",
       "      <th>...</th>\n",
       "      <td>...</td>\n",
       "      <td>...</td>\n",
       "      <td>...</td>\n",
       "    </tr>\n",
       "    <tr>\n",
       "      <th>424</th>\n",
       "      <td>Spirit River No. 133</td>\n",
       "      <td>666</td>\n",
       "      <td>669</td>\n",
       "    </tr>\n",
       "    <tr>\n",
       "      <th>426</th>\n",
       "      <td>Spirit River</td>\n",
       "      <td>1022</td>\n",
       "      <td>998</td>\n",
       "    </tr>\n",
       "    <tr>\n",
       "      <th>428</th>\n",
       "      <td>Fairview No. 136</td>\n",
       "      <td>1626</td>\n",
       "      <td>1603</td>\n",
       "    </tr>\n",
       "    <tr>\n",
       "      <th>429</th>\n",
       "      <td>Fairview</td>\n",
       "      <td>2912</td>\n",
       "      <td>2914</td>\n",
       "    </tr>\n",
       "    <tr>\n",
       "      <th>432</th>\n",
       "      <td>Grimshaw</td>\n",
       "      <td>2687</td>\n",
       "      <td>2652</td>\n",
       "    </tr>\n",
       "  </tbody>\n",
       "</table>\n",
       "<p>87 rows × 3 columns</p>\n",
       "</div>"
      ],
      "text/plain": [
       "                Area Name  2021  2022\n",
       "4              Bow Island  2106  2129\n",
       "10             Raymond1 *  4334  4455\n",
       "18            Coaldale3 *  9073  9179\n",
       "19                  Taber  9177  9325\n",
       "26                Bassano  1250  1255\n",
       "..                    ...   ...   ...\n",
       "424  Spirit River No. 133   666   669\n",
       "426          Spirit River  1022   998\n",
       "428      Fairview No. 136  1626  1603\n",
       "429              Fairview  2912  2914\n",
       "432              Grimshaw  2687  2652\n",
       "\n",
       "[87 rows x 3 columns]"
      ]
     },
     "execution_count": 2,
     "metadata": {},
     "output_type": "execute_result"
    }
   ],
   "source": [
    "# further data cleaning in pandas\n",
    "import pandas as pd\n",
    "\n",
    "table6 = pd.read_csv(\"Matthew's Data/Table6.csv\")\n",
    "table8 = pd.read_csv(\"Matthew's Data/Table8.csv\")\n",
    "table9 = pd.read_csv(\"Matthew's Data/table9.csv\")\n",
    "\n",
    "# create list of all strings that contain the names of communities in table 8\n",
    "community_names = table8[\"Community\"].unique().tolist()\n",
    "\n",
    "# filter the csv based on if it exists in the observed commmunities\n",
    "table9_filtered = table9[table9[\"Area Name\"].str.contains('|'.join(community_names), regex=True)]\n",
    "table9_filtered\n",
    "\n",
    "# clean again \n",
    "#print(len(community_names))\n",
    "#print(len(table9_filtered.index))s\n",
    "#for i in community_names:\n",
    "    #if not table9_filtered[\"Area Name\"].str.contains(i).any():\n",
    "        #print(i, \"is not in here\")"
   ]
  },
  {
   "cell_type": "code",
   "execution_count": null,
   "metadata": {},
   "outputs": [],
   "source": [
    "# TODO clean population estimates so it only includes the communities that we want\n",
    "# TODO fix tables 2b-2 and 2b\n",
    "# TODO start working on faceted graph\n",
    "# TODO for population before graph, make as ranges"
   ]
  },
  {
   "cell_type": "markdown",
   "metadata": {},
   "source": [
    "Ok so here is the shit that I am going to do for my part, please listen to the checklist ANALYSIS\n",
    "- make **Faceted Graph** for table 8 (and 6 now)\n",
    "    - write observations if any\n",
    "    - **MAINLY, WHAT RELATION BETWEEN RENT AND VACANCY IS THERE??**\n",
    "        - **HOW DOES THIS CHANGE BETWEEN COMMUNITY SIZES??**\n",
    "\n",
    "- <u>Sampled Towns</u> --> how might these be useful?\n",
    "    - Banff, Drumheller, Slave Lake, \n",
    "        - *State why these are good representatives in the sample for the whole communities* in the notebook\n",
    "            - sdf\n",
    "    - Analyze overall Rental Range from table 2b and vacancy rates?\n"
   ]
  },
  {
   "cell_type": "markdown",
   "metadata": {},
   "source": [
    "New changes\n",
    "- removed commas in thousands from Table 8 --> can read as numerical values now\n",
    "- removed \"Overall Vacancy Rates\" from Table 8, since this is covered in table 6 and is more accurate there, just need the weighted rents between years in table 8\\\n",
    "- added \"population\" which we want to analyze how town population sizes might also be related to costs and shit\n",
    "    - add to faceted graph as an outer variable"
   ]
  },
  {
   "cell_type": "markdown",
   "metadata": {},
   "source": [
    "-------\n",
    "\n",
    "# **Visualizations + Analysis:**"
   ]
  },
  {
   "cell_type": "code",
   "execution_count": null,
   "metadata": {},
   "outputs": [],
   "source": [
    "# faceted chart"
   ]
  }
 ],
 "metadata": {
  "kernelspec": {
   "display_name": "Python 3",
   "language": "python",
   "name": "python3"
  },
  "language_info": {
   "codemirror_mode": {
    "name": "ipython",
    "version": 3
   },
   "file_extension": ".py",
   "mimetype": "text/x-python",
   "name": "python",
   "nbconvert_exporter": "python",
   "pygments_lexer": "ipython3",
   "version": "3.13.0"
  }
 },
 "nbformat": 4,
 "nbformat_minor": 2
}
