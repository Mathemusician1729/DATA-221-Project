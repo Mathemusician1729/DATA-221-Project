{
 "cells": [
  {
   "cell_type": "markdown",
   "metadata": {},
   "source": [
    "stuff we did\n",
    "\n",
    "- visualization\n",
    "- anallysis\n",
    "- cleaning\n",
    "\n",
    "- faceted line graphs can help\n",
    "- sample representative communities instead of using all is fine as long as it is accurate"
   ]
  },
  {
   "cell_type": "code",
   "execution_count": null,
   "metadata": {},
   "outputs": [],
   "source": [
    "import pandas as pd\n",
    "\n"
   ]
  },
  {
   "cell_type": "code",
   "execution_count": null,
   "metadata": {},
   "outputs": [],
   "source": [
    "# TODO clean population estimates so it only includes the communities that we want\n",
    "# TODO fix tables 2b-2 and 2b\n",
    "# TODO start working on faceted graph\n",
    "# TODO for population before graph, make as ranges"
   ]
  },
  {
   "cell_type": "markdown",
   "metadata": {},
   "source": [
    "Ok so here is the shit that I am going to do for my part, please listen to the checklist ANALYSIS\n",
    "- make **Faceted Graph** for table 8 (and 6 now)\n",
    "    - write observations if any\n",
    "    - **MAINLY, WHAT RELATION BETWEEN MONEY MONEY AND VACANCY IS THERE??**\n",
    "\n",
    "- <u>Sampled Towns</u> --> how might these be useful?\n",
    "    - s\n"
   ]
  },
  {
   "cell_type": "markdown",
   "metadata": {},
   "source": [
    "New changes\n",
    "- removed commas in thousands from Table 8 --> can read as numerical values now\n",
    "- removed \"Overall Vacancy Rates\" from Table 8, since this is covered in table 6 and is more accurate there, just need the weighted rents between years in table 8\\\n",
    "- added \"population\" which we want to analyze how town population sizes might also be related to costs and shit\n",
    "    - add to faceted graph as an outer variable"
   ]
  }
 ],
 "metadata": {
  "kernelspec": {
   "display_name": "Python 3",
   "language": "python",
   "name": "python3"
  },
  "language_info": {
   "codemirror_mode": {
    "name": "ipython",
    "version": 3
   },
   "file_extension": ".py",
   "mimetype": "text/x-python",
   "name": "python",
   "nbconvert_exporter": "python",
   "pygments_lexer": "ipython3",
   "version": "3.13.0"
  }
 },
 "nbformat": 4,
 "nbformat_minor": 2
}
