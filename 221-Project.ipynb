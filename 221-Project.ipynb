{
 "cells": [
  {
   "cell_type": "markdown",
   "metadata": {},
   "source": [
    "# **Data Cleaning:**\n",
    "Summarize what we did in Excel, and some stuff moving into python\n",
    "- dawg i had to manually remove values because 1). the list is so small, 2). not that hard as a result 3). excel/python would take more time"
   ]
  },
  {
   "cell_type": "code",
   "execution_count": 46,
   "metadata": {},
   "outputs": [
    {
     "data": {
      "text/html": [
       "<div>\n",
       "<style scoped>\n",
       "    .dataframe tbody tr th:only-of-type {\n",
       "        vertical-align: middle;\n",
       "    }\n",
       "\n",
       "    .dataframe tbody tr th {\n",
       "        vertical-align: top;\n",
       "    }\n",
       "\n",
       "    .dataframe thead th {\n",
       "        text-align: right;\n",
       "    }\n",
       "</style>\n",
       "<table border=\"1\" class=\"dataframe\">\n",
       "  <thead>\n",
       "    <tr style=\"text-align: right;\">\n",
       "      <th></th>\n",
       "      <th>Area Name</th>\n",
       "      <th>Type</th>\n",
       "      <th>2021</th>\n",
       "      <th>2022</th>\n",
       "    </tr>\n",
       "  </thead>\n",
       "  <tbody>\n",
       "    <tr>\n",
       "      <th>4</th>\n",
       "      <td>Bow Island</td>\n",
       "      <td>T</td>\n",
       "      <td>2106</td>\n",
       "      <td>2129</td>\n",
       "    </tr>\n",
       "    <tr>\n",
       "      <th>10</th>\n",
       "      <td>Raymond</td>\n",
       "      <td>T</td>\n",
       "      <td>4334</td>\n",
       "      <td>4455</td>\n",
       "    </tr>\n",
       "    <tr>\n",
       "      <th>18</th>\n",
       "      <td>Coaldale</td>\n",
       "      <td>T</td>\n",
       "      <td>9073</td>\n",
       "      <td>9179</td>\n",
       "    </tr>\n",
       "    <tr>\n",
       "      <th>19</th>\n",
       "      <td>Taber</td>\n",
       "      <td>T</td>\n",
       "      <td>9177</td>\n",
       "      <td>9325</td>\n",
       "    </tr>\n",
       "    <tr>\n",
       "      <th>26</th>\n",
       "      <td>Bassano</td>\n",
       "      <td>T</td>\n",
       "      <td>1250</td>\n",
       "      <td>1255</td>\n",
       "    </tr>\n",
       "    <tr>\n",
       "      <th>...</th>\n",
       "      <td>...</td>\n",
       "      <td>...</td>\n",
       "      <td>...</td>\n",
       "      <td>...</td>\n",
       "    </tr>\n",
       "    <tr>\n",
       "      <th>415</th>\n",
       "      <td>Mclennan</td>\n",
       "      <td>T</td>\n",
       "      <td>715</td>\n",
       "      <td>719</td>\n",
       "    </tr>\n",
       "    <tr>\n",
       "      <th>417</th>\n",
       "      <td>Falher</td>\n",
       "      <td>T</td>\n",
       "      <td>1037</td>\n",
       "      <td>1034</td>\n",
       "    </tr>\n",
       "    <tr>\n",
       "      <th>422</th>\n",
       "      <td>Spirit River</td>\n",
       "      <td>T</td>\n",
       "      <td>1022</td>\n",
       "      <td>998</td>\n",
       "    </tr>\n",
       "    <tr>\n",
       "      <th>425</th>\n",
       "      <td>Fairview</td>\n",
       "      <td>T</td>\n",
       "      <td>2912</td>\n",
       "      <td>2914</td>\n",
       "    </tr>\n",
       "    <tr>\n",
       "      <th>428</th>\n",
       "      <td>Grimshaw</td>\n",
       "      <td>T</td>\n",
       "      <td>2687</td>\n",
       "      <td>2652</td>\n",
       "    </tr>\n",
       "  </tbody>\n",
       "</table>\n",
       "<p>67 rows × 4 columns</p>\n",
       "</div>"
      ],
      "text/plain": [
       "        Area Name Type  2021  2022\n",
       "4      Bow Island    T  2106  2129\n",
       "10        Raymond    T  4334  4455\n",
       "18       Coaldale    T  9073  9179\n",
       "19          Taber    T  9177  9325\n",
       "26        Bassano    T  1250  1255\n",
       "..            ...  ...   ...   ...\n",
       "415      Mclennan    T   715   719\n",
       "417        Falher    T  1037  1034\n",
       "422  Spirit River    T  1022   998\n",
       "425      Fairview    T  2912  2914\n",
       "428      Grimshaw    T  2687  2652\n",
       "\n",
       "[67 rows x 4 columns]"
      ]
     },
     "execution_count": 46,
     "metadata": {},
     "output_type": "execute_result"
    }
   ],
   "source": [
    "# further data cleaning in pandas\n",
    "import pandas as pd\n",
    "pd.options.mode.chained_assignment = None\n",
    "\n",
    "table6 = pd.read_csv(\"Matthew's Data/Table6.csv\")\n",
    "table8 = pd.read_csv(\"Matthew's Data/Table8.csv\")\n",
    "table9 = pd.read_csv(\"Matthew's Data/table9.csv\")\n",
    "\n",
    "# create list of all strings that contain the names of communities in table 8\n",
    "community_names = table8[\"Community\"].unique().tolist()\n",
    "\n",
    "# filter the csv based on if it exists in the observed commmunities\n",
    "table9_filtered = table9[table9[\"Area Name\"].isin(community_names)]\n",
    "table9_filtered\n",
    "\n",
    "# clean again \n",
    "#print(len(community_names))\n",
    "#print(len(table9_filtered.index))\n",
    "#for i in community_names:\n",
    "    #if not table9_filtered[\"Area Name\"].str.contains(i).any():\n",
    "        #print(i, \"is not in here\")\n",
    "        "
   ]
  },
  {
   "cell_type": "markdown",
   "metadata": {},
   "source": [
    "For this data set, it was at some point much easier to clean manually than it was to use excel or python, due to the fact that in this check, less than 15 were absent due to some error, and was as a result, so using ctrl + f and manually editing was not (in general, it isn't a practical solution but here is somehow less time consuming than using python/excel)"
   ]
  },
  {
   "cell_type": "code",
   "execution_count": null,
   "metadata": {},
   "outputs": [],
   "source": [
    "# TODO fix tables 2b-2 and 2b\n",
    "# TODO start working on faceted graph\n",
    "# TODO for population before graph, make as ranges"
   ]
  },
  {
   "cell_type": "markdown",
   "metadata": {},
   "source": [
    "Ok so here is the shit that I am going to do for my part, please listen to the checklist ANALYSIS\n",
    "- make **Faceted Graph** for table 8 (and 6 now)\n",
    "    - write observations if any\n",
    "    - **MAINLY, WHAT RELATION BETWEEN RENT AND VACANCY IS THERE??**\n",
    "        - **HOW DOES THIS CHANGE BETWEEN COMMUNITY SIZES??**\n",
    "\n",
    "- <u>Sampled Towns</u> --> how might these be useful?\n",
    "    - Banff, Drumheller, Slave Lake, \n",
    "        - *State why these are good representatives in the sample for the whole communities* in the notebook\n",
    "            - sdf\n",
    "    - Analyze overall Rental Range from table 2b and vacancy rates?\n",
    "    - **AT LEAST 2 VISUALS WE WANT TO MAKE FROM THE SAMPLED TOWNS STUFF**\n"
   ]
  },
  {
   "cell_type": "markdown",
   "metadata": {},
   "source": [
    "New changes\n",
    "- removed commas in thousands from Table 8 --> can read as numerical values now\n",
    "- removed \"Overall Vacancy Rates\" from Table 8, since this is covered in table 6 and is more accurate there, just need the weighted rents between years in table 8\\\n",
    "- added \"population\" which we want to analyze how town population sizes might also be related to costs and shit\n",
    "    - add to faceted graph as an outer variable"
   ]
  },
  {
   "cell_type": "markdown",
   "metadata": {},
   "source": [
    "-------\n",
    "\n",
    "# **Visualizations + Analysis:**"
   ]
  },
  {
   "cell_type": "markdown",
   "metadata": {},
   "source": []
  },
  {
   "cell_type": "code",
   "execution_count": null,
   "metadata": {},
   "outputs": [],
   "source": [
    "# faceted chart\n",
    "import plotly.express as px\n",
    "\n",
    "faceted = px.line()"
   ]
  }
 ],
 "metadata": {
  "kernelspec": {
   "display_name": "Python 3",
   "language": "python",
   "name": "python3"
  },
  "language_info": {
   "codemirror_mode": {
    "name": "ipython",
    "version": 3
   },
   "file_extension": ".py",
   "mimetype": "text/x-python",
   "name": "python",
   "nbconvert_exporter": "python",
   "pygments_lexer": "ipython3",
   "version": "3.13.1"
  }
 },
 "nbformat": 4,
 "nbformat_minor": 2
}
