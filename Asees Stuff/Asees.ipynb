{
 "cells": [
  {
   "cell_type": "markdown",
   "metadata": {},
   "source": [
    "Final Project asees data"
   ]
  },
  {
   "cell_type": "markdown",
   "metadata": {},
   "source": []
  },
  {
   "cell_type": "markdown",
   "metadata": {},
   "source": [
    "Run the Cell below to install numpy or pandas"
   ]
  },
  {
   "cell_type": "code",
   "execution_count": 26,
   "metadata": {},
   "outputs": [
    {
     "name": "stdout",
     "output_type": "stream",
     "text": [
      "Requirement already satisfied: numpy in /Users/prabhaseessingh/Desktop/Data Science/Data Science Y1/DATA 221/Final Project/DATA-221-Project/.venv/lib/python3.13/site-packages (2.2.4)\n",
      "Requirement already satisfied: pandas in /Users/prabhaseessingh/Desktop/Data Science/Data Science Y1/DATA 221/Final Project/DATA-221-Project/.venv/lib/python3.13/site-packages (2.2.3)\n",
      "Requirement already satisfied: numpy>=1.26.0 in /Users/prabhaseessingh/Desktop/Data Science/Data Science Y1/DATA 221/Final Project/DATA-221-Project/.venv/lib/python3.13/site-packages (from pandas) (2.2.4)\n",
      "Requirement already satisfied: python-dateutil>=2.8.2 in /Users/prabhaseessingh/Desktop/Data Science/Data Science Y1/DATA 221/Final Project/DATA-221-Project/.venv/lib/python3.13/site-packages (from pandas) (2.9.0.post0)\n",
      "Requirement already satisfied: pytz>=2020.1 in /Users/prabhaseessingh/Desktop/Data Science/Data Science Y1/DATA 221/Final Project/DATA-221-Project/.venv/lib/python3.13/site-packages (from pandas) (2025.1)\n",
      "Requirement already satisfied: tzdata>=2022.7 in /Users/prabhaseessingh/Desktop/Data Science/Data Science Y1/DATA 221/Final Project/DATA-221-Project/.venv/lib/python3.13/site-packages (from pandas) (2025.1)\n",
      "Requirement already satisfied: six>=1.5 in /Users/prabhaseessingh/Desktop/Data Science/Data Science Y1/DATA 221/Final Project/DATA-221-Project/.venv/lib/python3.13/site-packages (from python-dateutil>=2.8.2->pandas) (1.17.0)\n"
     ]
    }
   ],
   "source": [
    "!pip install numpy\n",
    "!pip install pandas"
   ]
  },
  {
   "cell_type": "code",
   "execution_count": 27,
   "metadata": {},
   "outputs": [],
   "source": [
    "# Importing csv, numpy and pandas\n",
    "\n",
    "import csv\n",
    "import numpy as np\n",
    "import pandas as pd"
   ]
  },
  {
   "cell_type": "code",
   "execution_count": 28,
   "metadata": {},
   "outputs": [],
   "source": [
    "Table6 = \"scss-avs-2022-table-6-change-in-vacancy-rate-by-community.csv\"\n",
    "tb6_df = pd.read_csv(Table6)\n"
   ]
  },
  {
   "cell_type": "code",
   "execution_count": 29,
   "metadata": {},
   "outputs": [
    {
     "name": "stdout",
     "output_type": "stream",
     "text": [
      "     Community  2021 Vacancy  2022 Vacancy  % Variance in Vacancy\n",
      "7   Slave Lake           0.0           6.8                    6.8\n",
      "44       Banff           3.2           0.3                   -2.9\n",
      "55  Drumheller          17.4           5.7                  -11.7\n",
      "60     Raymond          20.0           0.0                  -20.0\n"
     ]
    }
   ],
   "source": [
    "communities = [\"Banff\", \"Slave Lake\", \"Drumheller\", \"Raymond\"]\n",
    "tb6_df_filtered = tb6_df[tb6_df['Community'].isin(communities)]\n",
    "print(tb6_df_filtered)"
   ]
  },
  {
   "cell_type": "code",
   "execution_count": 30,
   "metadata": {},
   "outputs": [
    {
     "name": "stdout",
     "output_type": "stream",
     "text": [
      "Index(['Community', '2021 Vacancy', '2022 Vacancy', '% Variance in Vacancy'], dtype='object')\n"
     ]
    }
   ],
   "source": [
    "print(tb6_df.columns)"
   ]
  }
 ],
 "metadata": {
  "kernelspec": {
   "display_name": ".venv",
   "language": "python",
   "name": "python3"
  },
  "language_info": {
   "codemirror_mode": {
    "name": "ipython",
    "version": 3
   },
   "file_extension": ".py",
   "mimetype": "text/x-python",
   "name": "python",
   "nbconvert_exporter": "python",
   "pygments_lexer": "ipython3",
   "version": "3.13.1"
  }
 },
 "nbformat": 4,
 "nbformat_minor": 2
}
